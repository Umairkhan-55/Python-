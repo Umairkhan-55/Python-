{
 "cells": [
  {
   "cell_type": "markdown",
   "metadata": {},
   "source": [
    "## Make a calculator using Python with addition , subtraction ,\n",
    "## multiplication ,division and power."
   ]
  },
  {
   "cell_type": "code",
   "execution_count": 14,
   "metadata": {},
   "outputs": [
    {
     "name": "stdout",
     "output_type": "stream",
     "text": [
      "Enter 1st number: 3\n",
      "Enter operator: **\n",
      "Enter 2nd number: 3\n",
      "27\n"
     ]
    }
   ],
   "source": [
    "num_one = int(input(\"Enter 1st number: \"))\n",
    "\n",
    "op = input(\"Enter operator: \")\n",
    "\n",
    "num_two = int(input(\"Enter 2nd number: \"))\n",
    "\n",
    "if op == \"+\":\n",
    "    print(num_one + num_two)\n",
    "elif op == \"-\":\n",
    "    print(num_one - num_two)\n",
    "elif op == \"*\" or op == \"x\":\n",
    "    print(num_one * num_two)\n",
    "elif op == \"/\":\n",
    "    print(num_one / num_two)\n",
    "elif op == \"**\":\n",
    "    print(num_one ** num_two)\n",
    "          "
   ]
  },
  {
   "cell_type": "markdown",
   "metadata": {},
   "source": [
    "#  Write a Python script to add a key to a dictionary."
   ]
  },
  {
   "cell_type": "code",
   "execution_count": 27,
   "metadata": {},
   "outputs": [
    {
     "name": "stdout",
     "output_type": "stream",
     "text": [
      "{1: 'Umair', 2: 'Khan'}\n",
      "{1: 'Umair', 2: 'Khan', 3: 'Utmanzai'}\n"
     ]
    }
   ],
   "source": [
    "a = {1:\"Umair\", 2:\"Khan\"}\n",
    "print(a)\n",
    "a.update({3:\"Utmanzai\"})\n",
    "print(a)"
   ]
  },
  {
   "cell_type": "markdown",
   "metadata": {},
   "source": [
    "# Write a Python program to sum all the numeric items in a dictionary."
   ]
  },
  {
   "cell_type": "code",
   "execution_count": 33,
   "metadata": {},
   "outputs": [
    {
     "name": "stdout",
     "output_type": "stream",
     "text": [
      "26\n"
     ]
    }
   ],
   "source": [
    "b = {'Apple':5,'Banana':6,'Oranage':7,'Mango':8}\n",
    "print(sum(b.values()))\n"
   ]
  },
  {
   "cell_type": "markdown",
   "metadata": {},
   "source": [
    "# Write a program to identify duplicate values from list."
   ]
  },
  {
   "cell_type": "code",
   "execution_count": 35,
   "metadata": {},
   "outputs": [
    {
     "name": "stdout",
     "output_type": "stream",
     "text": [
      "2\n",
      "3\n",
      "4\n",
      "5\n"
     ]
    }
   ],
   "source": [
    "l=[1,2,3,4,5,2,3,4,7,9,5]\n",
    "l1=[]\n",
    "for i in l:\n",
    "    if i not in l1:\n",
    "        l1.append(i)\n",
    "    else:\n",
    "        print(i)"
   ]
  },
  {
   "cell_type": "markdown",
   "metadata": {},
   "source": [
    "# Write a Python script to check if a given key already exists in a\n",
    " # dictionary"
   ]
  },
  {
   "cell_type": "code",
   "execution_count": 14,
   "metadata": {},
   "outputs": [
    {
     "name": "stdout",
     "output_type": "stream",
     "text": [
      "Not \n"
     ]
    }
   ],
   "source": [
    "#b = {'Apple':5,'Banana':6,'Oranage':7,'Mango':8}\n",
    "#if \"Apple\" in b:\n",
    "    #print(\"Exist\")\n",
    "#else:\n",
    "    #print(\"Not exist\")\n",
    "    \n",
    "b = {'Apple':5,'Banana':6,'Oranage':7,'Mango':8}\n",
    "a=\"Chakotra\"\n",
    "if a in b.keys():\n",
    "    print(a,\"Yes\")\n",
    "else:\n",
    "    print(\"Not \")\n",
    "    \n",
    "    "
   ]
  },
  {
   "cell_type": "markdown",
   "metadata": {},
   "source": [
    " # Write a program to check if there is any numeric value in list using for loop."
   ]
  },
  {
   "cell_type": "code",
   "execution_count": 1,
   "metadata": {},
   "outputs": [
    {
     "name": "stdout",
     "output_type": "stream",
     "text": [
      "34\n",
      "98\n",
      "43\n",
      "46\n",
      "54\n",
      "54\n"
     ]
    }
   ],
   "source": [
    "number = [ 34, 98, 43, 46, 54, 54]\n",
    "\n",
    "for x in number:\n",
    "    if int(x) == x:\n",
    "    \tprint(x)\n"
   ]
  },
  {
   "cell_type": "code",
   "execution_count": null,
   "metadata": {},
   "outputs": [],
   "source": []
  }
 ],
 "metadata": {
  "kernelspec": {
   "display_name": "Python 3",
   "language": "python",
   "name": "python3"
  },
  "language_info": {
   "codemirror_mode": {
    "name": "ipython",
    "version": 3
   },
   "file_extension": ".py",
   "mimetype": "text/x-python",
   "name": "python",
   "nbconvert_exporter": "python",
   "pygments_lexer": "ipython3",
   "version": "3.7.3"
  }
 },
 "nbformat": 4,
 "nbformat_minor": 2
}
